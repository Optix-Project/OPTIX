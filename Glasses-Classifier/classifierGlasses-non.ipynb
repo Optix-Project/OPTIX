{
 "cells": [
  {
   "cell_type": "markdown",
   "metadata": {},
   "source": [
    "# DATA PREP"
   ]
  },
  {
   "cell_type": "code",
   "execution_count": 37,
   "metadata": {},
   "outputs": [
    {
     "name": "stdout",
     "output_type": "stream",
     "text": [
      "Found 3936 validated image filenames belonging to 2 classes.\n",
      "Found 984 validated image filenames belonging to 2 classes.\n",
      "Jumlah sampel data pelatihan: 3936\n",
      "Jumlah sampel data validasi: 984\n"
     ]
    }
   ],
   "source": [
    "import os\n",
    "import pandas as pd\n",
    "import tensorflow as tf\n",
    "from tensorflow.keras.preprocessing.image import ImageDataGenerator\n",
    "\n",
    "# your dataset folder directory\n",
    "data_dir = \"Dataset\"\n",
    "\n",
    "# define the 4 training directories class\n",
    "glasses_training_dir = os.path.join(data_dir, \"Images\", \"glasses\")\n",
    "no_training_dir = os.path.join(data_dir, \"Images\", \"no_glasses\")\n",
    "\n",
    "# create a list of image file paths and labels\n",
    "image_files = []\n",
    "labels = []\n",
    "\n",
    "# Load image file paths and corresponding labels\n",
    "for class_name, class_dir in [(\"glasses\", glasses_training_dir), (\"no_glasses\", no_training_dir)]:\n",
    "    for filename in os.listdir(class_dir):\n",
    "        image_files.append(os.path.join(class_dir, filename))\n",
    "        labels.append(class_name)\n",
    "\n",
    "# Create a Pandas DataFrame\n",
    "df = pd.DataFrame(list(zip(image_files, labels)), columns=['filename', 'label'])\n",
    "\n",
    "# Define the percentage of data for validation\n",
    "validation_split = 0.2\n",
    "\n",
    "# Split the data into training and validation sets\n",
    "train_df = df.sample(frac=1 - validation_split, random_state=1)\n",
    "val_df = df.drop(train_df.index)\n",
    "\n",
    "# Define ImageDataGenerator for training\n",
    "training_datagen = ImageDataGenerator(rescale=1./255)\n",
    "training_datagen = ImageDataGenerator(\n",
    "    rescale=1./255,\n",
    "    rotation_range=40,\n",
    "    width_shift_range=0.2,\n",
    "    height_shift_range=0.2,\n",
    "    shear_range=0.2,\n",
    "    zoom_range=0.2,\n",
    "    horizontal_flip=True,\n",
    "    fill_mode='nearest'\n",
    ")\n",
    "train_generator = training_datagen.flow_from_dataframe(\n",
    "    dataframe=train_df,\n",
    "    x_col='filename',\n",
    "    y_col='label',\n",
    "    target_size=(256, 256),\n",
    "    class_mode='binary',\n",
    "    batch_size=16\n",
    ")\n",
    "\n",
    "# Define ImageDataGenerator for validation\n",
    "validation_datagen = ImageDataGenerator(rescale=1./255)\n",
    "val_generator = validation_datagen.flow_from_dataframe(\n",
    "    dataframe=val_df,\n",
    "    x_col='filename',\n",
    "    y_col='label',\n",
    "    target_size=(256, 256),\n",
    "    class_mode='binary',\n",
    "    batch_size=16\n",
    ")\n",
    "\n",
    "# Print the number of samples in the training and validation sets\n",
    "print(\"Jumlah sampel data pelatihan:\", len(train_df))\n",
    "print(\"Jumlah sampel data validasi:\", len(val_df))\n"
   ]
  },
  {
   "cell_type": "markdown",
   "metadata": {},
   "source": [
    "# CREATE MODEL"
   ]
  },
  {
   "cell_type": "code",
   "execution_count": 57,
   "metadata": {},
   "outputs": [],
   "source": [
    "from tensorflow.keras.models import Sequential\n",
    "from tensorflow.keras.layers import Conv2D, MaxPooling2D, Flatten, Dense, Dropout, BatchNormalization\n",
    "\n",
    "model = Sequential([\n",
    "    Conv2D(32, (3, 3), activation='relu', input_shape=(256, 256, 3)),\n",
    "    MaxPooling2D(2, 2),\n",
    "    Conv2D(64, (3, 3), activation='relu'),\n",
    "    MaxPooling2D(2, 2),\n",
    "    Conv2D(128, (3, 3), activation='relu'),\n",
    "    MaxPooling2D(2, 2),\n",
    "    Flatten(),\n",
    "    Dense(512, activation='relu'),\n",
    "    Dropout(0.25),\n",
    "    Dense(1, activation='sigmoid')\n",
    "])\n"
   ]
  },
  {
   "cell_type": "code",
   "execution_count": 58,
   "metadata": {},
   "outputs": [
    {
     "name": "stdout",
     "output_type": "stream",
     "text": [
      "Model: \"sequential_6\"\n",
      "_________________________________________________________________\n",
      " Layer (type)                Output Shape              Param #   \n",
      "=================================================================\n",
      " conv2d_32 (Conv2D)          (None, 254, 254, 32)      896       \n",
      "                                                                 \n",
      " max_pooling2d_32 (MaxPooli  (None, 127, 127, 32)      0         \n",
      " ng2D)                                                           \n",
      "                                                                 \n",
      " conv2d_33 (Conv2D)          (None, 125, 125, 64)      18496     \n",
      "                                                                 \n",
      " max_pooling2d_33 (MaxPooli  (None, 62, 62, 64)        0         \n",
      " ng2D)                                                           \n",
      "                                                                 \n",
      " conv2d_34 (Conv2D)          (None, 60, 60, 128)       73856     \n",
      "                                                                 \n",
      " max_pooling2d_34 (MaxPooli  (None, 30, 30, 128)       0         \n",
      " ng2D)                                                           \n",
      "                                                                 \n",
      " flatten_7 (Flatten)         (None, 115200)            0         \n",
      "                                                                 \n",
      " dense_12 (Dense)            (None, 512)               58982912  \n",
      "                                                                 \n",
      " dropout_24 (Dropout)        (None, 512)               0         \n",
      "                                                                 \n",
      " dense_13 (Dense)            (None, 1)                 513       \n",
      "                                                                 \n",
      "=================================================================\n",
      "Total params: 59076673 (225.36 MB)\n",
      "Trainable params: 59076673 (225.36 MB)\n",
      "Non-trainable params: 0 (0.00 Byte)\n",
      "_________________________________________________________________\n"
     ]
    }
   ],
   "source": [
    "model.summary()"
   ]
  },
  {
   "cell_type": "code",
   "execution_count": 59,
   "metadata": {},
   "outputs": [],
   "source": [
    "model.compile(loss = 'binary_crossentropy', optimizer=RMSprop(learning_rate=0.001), metrics=['accuracy'])"
   ]
  },
  {
   "cell_type": "code",
   "execution_count": 60,
   "metadata": {},
   "outputs": [],
   "source": [
    "from tensorflow.keras.callbacks import EarlyStopping\n",
    "\n",
    "# Callback untuk menghentikan pelatihan jika akurasi lebih dari 0.95\n",
    "custom_callback = EarlyStopping(\n",
    "    monitor='accuracy',  # Menyimak metrik akurasi pelatihan\n",
    "    baseline=0.95,  # Hentikan pelatihan jika akurasi mencapai atau melebihi 0.95\n",
    "    mode='max',  # Mode 'max' berarti akan berhenti jika metrik mencapai nilai maksimum\n",
    "    patience=20,  # Bersabar selama 3 epoch jika kondisi tidak terpenuhi\n",
    "    verbose=1,  # Tampilkan pesan verbose\n",
    "    restore_best_weights=True  # Kembalikan bobot terbaik saat pelatihan dihentikan\n",
    ")\n",
    "\n",
    "# Callback untuk menghentikan pelatihan jika val_accuracy lebih dari 0.95\n",
    "custom_callback_val = EarlyStopping(\n",
    "    monitor='val_accuracy',  # Menyimak metrik akurasi validasi\n",
    "    baseline=0.95,  # Hentikan pelatihan jika val_accuracy mencapai atau melebihi 0.95\n",
    "    mode='max',  # Mode 'max' berarti akan berhenti jika metrik mencapai nilai maksimum\n",
    "    patience=20,  # Bersabar selama 3 epoch jika kondisi tidak terpenuhi\n",
    "    verbose=1,  # Tampilkan pesan verbose\n",
    "    restore_best_weights=True  # Kembalikan bobot terbaik saat pelatihan dihentikan\n",
    ")\n",
    "\n",
    "\n"
   ]
  },
  {
   "cell_type": "code",
   "execution_count": 61,
   "metadata": {},
   "outputs": [
    {
     "name": "stdout",
     "output_type": "stream",
     "text": [
      "Epoch 1/20\n",
      "20/20 [==============================] - 113s 5s/step - loss: 1.1476 - accuracy: 0.5406 - val_loss: 0.6901 - val_accuracy: 0.5437\n",
      "Epoch 2/20\n",
      "20/20 [==============================] - 109s 5s/step - loss: 0.6952 - accuracy: 0.5688 - val_loss: 0.6796 - val_accuracy: 0.5688\n",
      "Epoch 3/20\n",
      "20/20 [==============================] - 110s 5s/step - loss: 0.7169 - accuracy: 0.5281 - val_loss: 0.6870 - val_accuracy: 0.5531\n",
      "Epoch 4/20\n",
      "20/20 [==============================] - 113s 5s/step - loss: 0.7468 - accuracy: 0.5312 - val_loss: 0.6815 - val_accuracy: 0.5469\n",
      "Epoch 5/20\n",
      "20/20 [==============================] - 162s 8s/step - loss: 0.7144 - accuracy: 0.5781 - val_loss: 0.6608 - val_accuracy: 0.5688\n",
      "Epoch 6/20\n",
      "20/20 [==============================] - 96s 5s/step - loss: 0.6738 - accuracy: 0.5688 - val_loss: 0.5169 - val_accuracy: 0.6812\n",
      "Epoch 7/20\n",
      "20/20 [==============================] - 147s 7s/step - loss: 0.5933 - accuracy: 0.6812 - val_loss: 0.6384 - val_accuracy: 0.5656\n",
      "Epoch 8/20\n",
      "20/20 [==============================] - 98s 5s/step - loss: 0.5514 - accuracy: 0.7000 - val_loss: 0.3118 - val_accuracy: 0.9219\n",
      "Epoch 9/20\n",
      "20/20 [==============================] - 96s 5s/step - loss: 0.4907 - accuracy: 0.7375 - val_loss: 0.2218 - val_accuracy: 0.9125\n",
      "Epoch 10/20\n",
      "20/20 [==============================] - 95s 5s/step - loss: 0.4796 - accuracy: 0.7812 - val_loss: 0.2498 - val_accuracy: 0.9375\n",
      "Epoch 11/20\n",
      "20/20 [==============================] - 137s 6s/step - loss: 0.3319 - accuracy: 0.8531 - val_loss: 0.1776 - val_accuracy: 0.9406\n",
      "Epoch 12/20\n",
      "20/20 [==============================] - 102s 5s/step - loss: 0.4062 - accuracy: 0.8094 - val_loss: 0.2165 - val_accuracy: 0.9125\n",
      "Epoch 13/20\n",
      "20/20 [==============================] - 191s 10s/step - loss: 0.3654 - accuracy: 0.8406 - val_loss: 0.1388 - val_accuracy: 0.9438\n",
      "Epoch 14/20\n",
      "20/20 [==============================] - 319s 15s/step - loss: 0.3494 - accuracy: 0.8531 - val_loss: 0.1528 - val_accuracy: 0.9594\n",
      "Epoch 15/20\n",
      "20/20 [==============================] - 140s 7s/step - loss: 0.2887 - accuracy: 0.8906 - val_loss: 0.1988 - val_accuracy: 0.9094\n",
      "Epoch 16/20\n",
      "20/20 [==============================] - 152s 7s/step - loss: 0.3373 - accuracy: 0.8625 - val_loss: 0.1307 - val_accuracy: 0.9688\n",
      "Epoch 17/20\n",
      "20/20 [==============================] - 267s 13s/step - loss: 0.3026 - accuracy: 0.9000 - val_loss: 0.0579 - val_accuracy: 0.9875\n",
      "Epoch 18/20\n",
      "20/20 [==============================] - 177s 8s/step - loss: 0.2328 - accuracy: 0.9125 - val_loss: 0.2698 - val_accuracy: 0.8625\n",
      "Epoch 19/20\n",
      "20/20 [==============================] - 148s 7s/step - loss: 0.2323 - accuracy: 0.9125 - val_loss: 0.0615 - val_accuracy: 0.9875\n",
      "Epoch 20/20\n",
      "20/20 [==============================] - 196s 9s/step - loss: 0.2555 - accuracy: 0.9219 - val_loss: 0.0359 - val_accuracy: 0.9937\n"
     ]
    }
   ],
   "source": [
    "history = model.fit(\n",
    "      train_generator,\n",
    "      steps_per_epoch=20,  \n",
    "      epochs=20,\n",
    "      verbose=1,\n",
    "      validation_data = val_generator,\n",
    "      validation_steps=20,\n",
    "      callbacks=[custom_callback, custom_callback_val]\n",
    ")"
   ]
  },
  {
   "cell_type": "code",
   "execution_count": 62,
   "metadata": {},
   "outputs": [
    {
     "data": {
      "image/png": "[encoded data removed]",
      "text/plain": [
       "<Figure size 640x480 with 1 Axes>"
      ]
     },
     "metadata": {},
     "output_type": "display_data"
    },
    {
     "data": {
      "text/plain": [
       "<Figure size 640x480 with 0 Axes>"
      ]
     },
     "metadata": {},
     "output_type": "display_data"
    }
   ],
   "source": [
    "import matplotlib.pyplot as plt\n",
    "\n",
    "# Plot the results\n",
    "acc = history.history['accuracy']\n",
    "val_acc = history.history['val_accuracy']\n",
    "loss = history.history['loss']\n",
    "val_loss = history.history['val_loss']\n",
    "\n",
    "epochs = range(len(acc))\n",
    "\n",
    "plt.plot(epochs, acc, 'r', label='Training accuracy')\n",
    "plt.plot(epochs, val_acc, 'b', label='Validation accuracy')\n",
    "plt.title('Training and validation accuracy')\n",
    "plt.legend(loc=0)\n",
    "plt.figure()\n",
    "\n",
    "plt.show()"
   ]
  },
  {
   "cell_type": "markdown",
   "metadata": {},
   "source": [
    "# PREDICTING"
   ]
  },
  {
   "cell_type": "code",
   "execution_count": 69,
   "metadata": {},
   "outputs": [
    {
     "name": "stdout",
     "output_type": "stream",
     "text": [
      "1/1 [==============================] - 0s 154ms/step\n",
      "[0.00456074]\n",
      "glasses\n"
     ]
    }
   ],
   "source": [
    "import tkinter as tk\n",
    "from tkinter import filedialog\n",
    "from tkinter.filedialog import askopenfile\n",
    "from PIL import Image, ImageTk\n",
    "from tensorflow.keras.utils import load_img, img_to_array\n",
    "import numpy as np\n",
    "\n",
    "#function to call the upload file dialog box\n",
    "def upload_file():\n",
    "    global img, predict_path\n",
    "    f_types = [('Image Files', '*.jpg;*.jpeg;*.png')]\n",
    "    filename = filedialog.askopenfilename(filetypes=f_types)\n",
    "    predict_path = filename\n",
    "    img = ImageTk.PhotoImage(file=filename)\n",
    "    my_w.destroy()\n",
    "\n",
    "my_w = tk.Tk()\n",
    "my_w.geometry(\"400x300\")  \n",
    "my_w.title('upload your image')\n",
    "my_font1=('times', 18, 'bold')\n",
    "l1 = tk.Label(my_w,text='upload your image',width=30,font=my_font1)  \n",
    "l1.grid(row=1,column=1)\n",
    "b1 = tk.Button(my_w, text='Upload File', \n",
    "   width=20,command = lambda:upload_file())\n",
    "b1.grid(row=2,column=1) \n",
    "\n",
    "my_w.mainloop()\n",
    "\n",
    "img = load_img(predict_path, target_size=(256, 256))\n",
    "x = img_to_array(img)\n",
    "x /= 255\n",
    "x = np.expand_dims(x, axis=0)\n",
    "\n",
    "# Load your model here (make sure you have it saved locally)\n",
    "\n",
    "images = np.vstack([x])\n",
    "classes = model.predict(images, batch_size=10)\n",
    "print(classes[0])\n",
    "\n",
    "\n",
    "\n",
    "if classes[0] > 0.5:\n",
    "    prediction = \"no glasses!\"\n",
    "    print('no glasses')\n",
    "else:\n",
    "    prediction = \"glasses!\"\n",
    "    print('glasses')\n",
    "\n",
    "\n",
    " "
   ]
  },
  {
   "cell_type": "markdown",
   "metadata": {},
   "source": [
    "# SAVE MODEL"
   ]
  },
  {
   "cell_type": "code",
   "execution_count": null,
   "metadata": {},
   "outputs": [],
   "source": [
    "model_path = \"/tmp/model\"\n",
    "\n",
    "tf.saved_model.save(model, model_path)"
   ]
  },
  {
   "cell_type": "code",
   "execution_count": null,
   "metadata": {},
   "outputs": [],
   "source": [
    "import pathlib\n",
    "#TFLITE\n",
    "\n",
    "def Tensolite(model_path, optm, filename=\"normal_model\"):\n",
    "  lite = tf.lite.TFLiteConverter\n",
    "  lite_model = lite.from_saved_model(model_path)\n",
    "  if optm:\n",
    "    lite_model.optimizations = optm\n",
    "  tflite_model = lite_model.convert()\n",
    "  tflite_model_file = pathlib.Path(f\"{filename}.tflite\")\n",
    "  tflite_model_file.write_bytes(tflite_model)\n",
    "  return tflite_model"
   ]
  },
  {
   "cell_type": "code",
   "execution_count": null,
   "metadata": {},
   "outputs": [],
   "source": [
    "optm = [tf.lite.Optimize.DEFAULT]\n",
    "\n",
    "filemega = lambda filepath : os.path.getsize(filepath) / float(2**20)\n",
    "\n",
    "tflite_model = Tensolite(model_path, optm=optm, filename=\"normal_model\")\n",
    "\n",
    "round(filemega(\"/content/normal_model.tflite\"), 3)"
   ]
  },
  {
   "cell_type": "code",
   "execution_count": null,
   "metadata": {},
   "outputs": [],
   "source": [
    "#MODEL H5\n",
    "model.save(\"glasses.h5\")"
   ]
  }
 ],
 "metadata": {
  "kernelspec": {
   "display_name": "tf",
   "language": "python",
   "name": "python3"
  },
  "language_info": {
   "codemirror_mode": {
    "name": "ipython",
    "version": 3
   },
   "file_extension": ".py",
   "mimetype": "text/x-python",
   "name": "python",
   "nbconvert_exporter": "python",
   "pygments_lexer": "ipython3",
   "version": "3.11.4"
  }
 },
 "nbformat": 4,
 "nbformat_minor": 2
}
